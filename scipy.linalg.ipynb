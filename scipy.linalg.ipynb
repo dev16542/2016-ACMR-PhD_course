{
 "cells": [
  {
   "cell_type": "markdown",
   "metadata": {},
   "source": [
    "# Assignment 3 (e )\n",
    "## (scipy.linalg)"
   ]
  },
  {
   "cell_type": "markdown",
   "metadata": {},
   "source": [
    "# Introduction\n",
    "\n",
    "SciPy is built using the optimized ATLAS LAPACK and BLAS libraries and therefore has a very fast linear algebra capabilities. All of these linear algebra routines expect an object that can be converted into a 2-dimensional array. The output of these routines is also a two-dimensional array. "
   ]
  },
  {
   "cell_type": "markdown",
   "metadata": {},
   "source": [
    "# scipy.linalg Versus numpy.linalg\n",
    "\n",
    "scipy.linalg contains all the functions in numpy.linalg. plus some other more advanced ones not contained in numpy.linalg\n",
    "Another advantage of using scipy.linalg over numpy.linalg is that it is always compiled with BLAS/LAPACK support, while for numpy this is optional. Therefore, the scipy version is faster depending on how numpy was installed.\n"
   ]
  },
  {
   "cell_type": "markdown",
   "metadata": {},
   "source": [
    "# Basic routines\n",
    "## Finding Inverse\n",
    "The inverse of a matrix A is the matrix B such that AB=I where I is the identity matrix consisting of ones down the main diagonal. Usually B is denoted B=A−1 . In SciPy, the matrix inverse of the Numpy array, A, is obtained using linalg.inv (A) , or using A.I if A is a Matrix. The following example illustatrtes this"
   ]
  },
  {
   "cell_type": "code",
   "execution_count": 14,
   "metadata": {
    "collapsed": false
   },
   "outputs": [
    {
     "data": {
      "text/plain": [
       "array([[  1.00000000e+00,  -1.66533454e-16,   1.24900090e-16],\n",
       "       [  6.93889390e-18,   1.00000000e+00,   1.07552856e-16],\n",
       "       [  1.11022302e-16,  -4.44089210e-16,   1.00000000e+00]])"
      ]
     },
     "execution_count": 14,
     "metadata": {},
     "output_type": "execute_result"
    }
   ],
   "source": [
    ">>> import numpy as np\n",
    ">>> from scipy import linalg\n",
    ">>> A = np.array([[42,566,8],[22,65,1],[57,39,88]])\n",
    ">>> linalg.inv(A)\n",
    ">>> A.dot(linalg.inv(A)) #double check\n"
   ]
  },
  {
   "cell_type": "markdown",
   "metadata": {},
   "source": [
    "## Solving linear system\n",
    "Solving linear systems of equations is straightforward using the scipy command linalg.solve. This command expects an input matrix and a right-hand-side vector. The solution vector is then computed. An option for entering a symmetric matrix is offered which can speed up the processing when applicable. As an example, suppose it is desired to solve the following simultaneous equations:\n",
    "x+3y+5z=102x+5y+z=82x+3y+8z=3\n"
   ]
  },
  {
   "cell_type": "code",
   "execution_count": 15,
   "metadata": {
    "collapsed": false
   },
   "outputs": [
    {
     "data": {
      "text/plain": [
       "array([[ 0.],\n",
       "       [ 0.]])"
      ]
     },
     "execution_count": 15,
     "metadata": {},
     "output_type": "execute_result"
    }
   ],
   "source": [
    ">>> import numpy as np\n",
    ">>> from scipy import linalg\n",
    ">>> A = np.array([[1, 2], [3, 4]])\n",
    ">>> b = np.array([[5], [6]])\n",
    ">>> linalg.inv(A).dot(b)  # slow\n",
    ">>> A.dot(linalg.inv(A).dot(b)) - b  # check\n",
    ">>> np.linalg.solve(A, b)  # fast\n",
    ">>> A.dot(np.linalg.solve(A, b)) - b  # check\n"
   ]
  },
  {
   "cell_type": "markdown",
   "metadata": {},
   "source": [
    "## Finding Determinant\n",
    "The determinant of a square matrix A is often denoted |A| and is a quantity often used in linear algebra. Suppose aij are the elements of the matrix A and let Mij=|Aij| be the determinant of the matrix left by removing the ith row and jth column from A . Then for any row i,\n",
    "|A|=∑j(−1)i+jaijMij.\n",
    "This is a recursive way to define the determinant where the base case is defined by accepting that the determinant of a 1×1 matrix is the only matrix element. In SciPy the determinant can be calculated with linalg.det . The following example illustatrtes this\n"
   ]
  },
  {
   "cell_type": "code",
   "execution_count": 16,
   "metadata": {
    "collapsed": false
   },
   "outputs": [
    {
     "data": {
      "text/plain": [
       "6.0"
      ]
     },
     "execution_count": 16,
     "metadata": {},
     "output_type": "execute_result"
    }
   ],
   "source": [
    ">>> import numpy as np\n",
    ">>> from scipy import linalg\n",
    ">>> A = np.array([[4,2],[5,4]])\n",
    ">>> linalg.det(A)\n"
   ]
  },
  {
   "cell_type": "markdown",
   "metadata": {},
   "source": [
    "## Computing norms\n",
    "\n",
    "Matrix and vector norms can also be computed with SciPy. A wide range of norm definitions are available using different parameters to the order argument of linalg.norm . This function takes a rank-1 (vectors) or a rank-2 (matrices) array and an optional order argument (default is 2). Based on these inputs a vector or matrix norm of the requested order is computed.\n",
    "\n",
    "For vector x , the order parameter can be any real number including inf or -inf. The computed norm is\n",
    "‖x‖={max|xi|ord=infmin|xi|ord=−inf(∑i|xi|ord)1/ord|ord|<∞.\n",
    "\n",
    "For matrix A the only valid values for norm are ±2,±1, ± inf, and ‘fro’ (or ‘f’) Thus,\n",
    "‖A‖={maxi∑j|aij|ord=infmini∑j|aij|ord=−infmaxj∑i|aij|ord=1minj∑i|aij|ord=−1maxσiord=2minσiord=−2√trace(AHA)ord='fro'\n",
    "where σi are the singular values of A . The following example illustatrtes this\n"
   ]
  },
  {
   "cell_type": "code",
   "execution_count": 17,
   "metadata": {
    "collapsed": false
   },
   "outputs": [
    {
     "data": {
      "text/plain": [
       "7.0"
      ]
     },
     "execution_count": 17,
     "metadata": {},
     "output_type": "execute_result"
    }
   ],
   "source": [
    ">>> import numpy as np\n",
    ">>> from scipy import linalg\n",
    ">>> A=np.array([[1,2],[3,4]])\n",
    ">>> linalg.norm(A)\n",
    ">>> linalg.norm(A,'fro') # frobenius norm is the default\n",
    ">>> linalg.norm(A,1) # L1 norm (max column sum)\n",
    ">>> linalg.norm(A,-1)\n",
    ">>> linalg.norm(A,np.inf) # L inf norm (max row sum)\n"
   ]
  },
  {
   "cell_type": "markdown",
   "metadata": {},
   "source": [
    "# Solving linear least-squares problems and pseudo-inverses\n",
    "Linear least-squares problems occur in many branches of applied mathematics. In this problem a set of linear scaling coefficients is sought that allow a model to fit data. In particular it is assumed that data yi is related to data xi through a set of coefficients cj and model functions fj(xi) via the model\n",
    "yi=∑jcjfj(xi)+ϵi\n",
    "where ϵi represents uncertainty in the data. The strategy of least squares is to pick the coefficients cj to minimize\n",
    "J(c)=∑i|yi−∑jcjfj(xi)|2.\n",
    "Theoretically, a global minimum will occur when\n",
    "∂J∂c∗n=0=∑i(yi−∑jcjfj(xi))(−f∗n(xi))\n",
    "or\n",
    "∑jcj∑ifj(xi)f∗n(xi)=∑iyif∗n(xi)AHAc=AHy\n",
    "where\n",
    "{A}ij=fj(xi).\n",
    "When AHA is invertible, then\n",
    "c=(AHA)−1AHy=A†y\n",
    "where A† is called the pseudo-inverse of A. Notice that using this definition of A the model can be written\n",
    "y=Ac+ϵ.\n",
    "The command linalg.lstsq will solve the linear least squares problem for c given A and y . In addition linalg.pinv or linalg.pinv2 (uses a different method based on singular value decomposition) will find A† given A.\n",
    "The following example and figure demonstrate the use of linalg.lstsq and linalg.pinv for solving a data-fitting problem. The data shown below were generated using the model:\n",
    "yi=c1e−xi+c2xi\n",
    "where xi=0.1i for i=1…10 , c1=5 , and c2=4. Noise is added to yi and the coefficients c1 and c2 are estimated using linear least squares.\n"
   ]
  },
  {
   "cell_type": "code",
   "execution_count": 19,
   "metadata": {
    "collapsed": false
   },
   "outputs": [
    {
     "data": {
      "image/png": "[encoded data removed]",
      "text/plain": [
       "<matplotlib.figure.Figure at 0x745f5a4b00>"
      ]
     },
     "metadata": {},
     "output_type": "display_data"
    }
   ],
   "source": [
    ">>> %matplotlib inline\n",
    ">>> import numpy as np\n",
    ">>> from scipy import linalg\n",
    ">>> import matplotlib.pyplot as plt\n",
    ">>>\n",
    ">>> c1, c2 = 5.0, 2.0\n",
    ">>> i = np.r_[1:11]\n",
    ">>> xi = 0.1*i\n",
    ">>> yi = c1*np.exp(-xi) + c2*xi\n",
    ">>> zi = yi + 0.05 * np.max(yi) * np.random.randn(len(yi))\n",
    ">>>\n",
    ">>> A = np.c_[np.exp(-xi)[:, np.newaxis], xi[:, np.newaxis]]\n",
    ">>> c, resid, rank, sigma = linalg.lstsq(A, zi)\n",
    ">>>\n",
    ">>> xi2 = np.r_[0.1:1.0:100j]\n",
    ">>> yi2 = c[0]*np.exp(-xi2) + c[1]*xi2\n",
    ">>>\n",
    ">>> plt.plot(xi,zi,'x',xi2,yi2)\n",
    ">>> plt.axis([0,1.1,3.0,5.5])\n",
    ">>> plt.xlabel('$x_i$')\n",
    ">>> plt.title('Data fitting with linalg.lstsq')\n",
    ">>> plt.show()\n"
   ]
  },
  {
   "cell_type": "markdown",
   "metadata": {},
   "source": [
    "## Decompositions\n",
    "In many applications it is useful to decompose a matrix using other representations. There are several decompositions supported by SciPy.\n",
    "## Eigenvalues and eigenvectors\n",
    "The eigenvalue-eigenvector problem is one of the most commonly employed linear algebra operations. In one popular form, the eigenvalue-eigenvector problem is to find for some square matrix A scalars λ and corresponding vectors v such that\n",
    "Av=λv.\n",
    "For an N×N matrix, there are N (not necessarily distinct) eigenvalues — roots of the (characteristic) polynomial\n",
    "|A−λI|=0.\n",
    "The eigenvectors, v , are also sometimes called right eigenvectors to distinguish them from another set of left eigenvectors that satisfy\n",
    "vHLA=λvHL\n",
    "or\n",
    "AHvL=λ∗vL.\n",
    "With it’s default optional arguments, the command linalg.eig returns λ and v. However, it can also return vL and just λ by itself ( linalg.eigvals returns just λ as well).\n",
    "In addition, linalg.eig can also solve the more general eigenvalue problem\n",
    "Av=λBvAHvL=λ∗BHvL\n",
    "for square matrices A and B. The standard eigenvalue problem is an example of the general eigenvalue problem for B=I. When a generalized eigenvalue problem can be solved, then it provides a decomposition of A as\n",
    "A=BVΛV−1\n",
    "where V is the collection of eigenvectors into columns and Λ is a diagonal matrix of eigenvalues.\n",
    "By definition, eigenvectors are only defined up to a constant scale factor. In SciPy, the scaling factor for the eigenvectors is chosen so that ‖v‖2=∑iv2i=1\n"
   ]
  },
  {
   "cell_type": "markdown",
   "metadata": {},
   "source": [
    "As an example, consider finding the eigenvalues and eigenvectors of the matrix\n",
    "A=[152241362].\n",
    "The characteristic polynomial is\n",
    "|A−λI|=(1−λ)[(4−λ)(2−λ)−6]−5[2(2−λ)−3]+2[12−3(4−λ)]=−λ3+7λ2+8λ−3.\n",
    "The roots of this polynomial are the eigenvalues of A :\n",
    "λ1=7.9579λ2=−1.2577λ3=0.2997.\n",
    "The eigenvectors corresponding to each eigenvalue can be found using the original equation. The eigenvectors associated with these eigenvalues can then be found.\n"
   ]
  },
  {
   "cell_type": "code",
   "execution_count": 26,
   "metadata": {
    "collapsed": false
   },
   "outputs": [
    {
     "ename": "SyntaxError",
     "evalue": "Missing parentheses in call to 'print' (<ipython-input-26-a24fc1d67812>, line 7)",
     "output_type": "error",
     "traceback": [
      "\u001b[0;36m  File \u001b[0;32m\"<ipython-input-26-a24fc1d67812>\"\u001b[0;36m, line \u001b[0;32m7\u001b[0m\n\u001b[0;31m    print l1, l2   # eigenvalues\u001b[0m\n\u001b[0m           ^\u001b[0m\n\u001b[0;31mSyntaxError\u001b[0m\u001b[0;31m:\u001b[0m Missing parentheses in call to 'print'\n"
     ]
    }
   ],
   "source": [
    ">>> %prun\n",
    ">>> import numpy as np\n",
    ">>> from scipy import linalg\n",
    ">>> A = np.array([[1, 2], [3, 4]])\n",
    ">>> la, v = linalg.eig(A)\n",
    ">>> l1, l2 = la\n",
    ">>> print l1, l2   # eigenvalues\n",
    "(-0.372281323269+0j) (5.37228132327+0j)\n",
    ">>> print v[:, 0]   # first eigenvector\n",
    "[-0.82456484  0.56576746]\n",
    ">>> print v[:, 1]   # second eigenvector\n",
    "[-0.41597356 -0.90937671]\n",
    ">>> print np.sum(abs(v**2), axis=0)  # eigenvectors are unitary\n",
    "\n",
    ">>> v1 = np.array(v[:, 0]).T\n",
    ">>> print linalg.norm(A.dot(v1) - l1*v1)  # check the computation\n",
    "\n"
   ]
  },
  {
   "cell_type": "markdown",
   "metadata": {},
   "source": [
    "## Matrix Functions\n",
    "Consider the function f(x) with Taylor series expansion\n",
    "f(x)=∞∑k=0f(k)(0)k!xk.\n",
    "A matrix function can be defined using this Taylor series for the square matrix A as\n",
    "f(A)=∞∑k=0f(k)(0)k!Ak.\n",
    "While, this serves as a useful representation of a matrix function, it is rarely the best way to calculate a matrix function.\n"
   ]
  },
  {
   "cell_type": "markdown",
   "metadata": {},
   "source": [
    "### Exponential and logarithm functions\n",
    "The matrix exponential is one of the more common matrix functions. It can be defined for square matrices as\n",
    "eA=∞∑k=01k!Ak.\n",
    "The command linalg.expm3 uses this Taylor series definition to compute the matrix exponential. \n",
    "Due to poor convergence properties it is not often used.\n"
   ]
  },
  {
   "cell_type": "markdown",
   "metadata": {},
   "source": [
    "### Trigonometric functions\n",
    "The trigonometric functions sin , cos , and tan are implemented for matrices in linalg.sinm, linalg.cosm, and linalg.tanm respectively. The matrix sin and cosine can be defined using Euler’s identity as\n",
    "sin(A)=ejA−e−jA2jcos(A)=ejA+e−jA2.\n",
    "The tangent is\n",
    "tan(x)=sin(x)cos(x)=[cos(x)]−1sin(x)\n",
    "and so the matrix tangent is defined as\n",
    "[cos(A)]−1sin(A).\n"
   ]
  },
  {
   "cell_type": "markdown",
   "metadata": {},
   "source": [
    "### Arbitrary function\n",
    "Finally, any arbitrary function that takes one complex number and returns a complex number can be called as a matrix function using the command linalg.funm. This command takes the matrix and an arbitrary Python function. It then implements an algorithm from Golub and Van Loan’s book “Matrix Computations” to compute function applied to the matrix using a Schur decomposition. Note that the function needs to accept complex numbers as input in order to work with this algorithm. For example the following code computes the zeroth-order Bessel function applied to a matrix.\n"
   ]
  },
  {
   "cell_type": "code",
   "execution_count": 30,
   "metadata": {
    "collapsed": false
   },
   "outputs": [
    {
     "name": "stdout",
     "output_type": "stream",
     "text": [
      " "
     ]
    },
    {
     "data": {
      "text/plain": [
       "array([ 0.37551908+0.j,  0.98975384+0.j,  0.96165739+0.j])"
      ]
     },
     "execution_count": 30,
     "metadata": {},
     "output_type": "execute_result"
    }
   ],
   "source": [
    ">>> %prun\n",
    ">>> from scipy import special, random, linalg\n",
    ">>> np.random.seed(1234)\n",
    ">>> A = random.rand(3, 3)\n",
    ">>> B = linalg.funm(A, lambda x: special.jv(0, x))\n",
    ">>> linalg.eigvals(A)\n",
    ">>> special.jv(0, linalg.eigvals(A))\n",
    ">>> linalg.eigvals(B)\n",
    "\n"
   ]
  },
  {
   "cell_type": "markdown",
   "metadata": {},
   "source": [
    "### Special matrices\n",
    "SciPy and NumPy provide several functions for creating special matrices that are frequently used in engineering and science.\n",
    "Type\tFunction\tDescription\n",
    "\n",
    "(a)  block diagonal\tscipy.linalg.block_diag   Create a block diagonal matrix from the provided arrays.\n",
    "(b)  circulant\tscipy.linalg.circulant Construct a circulant matrix.\n",
    "(c)  companion\tscipy.linalg.companion  Create a companion matrix.\n",
    "(d)  Hadamard\tscipy.linalg.hadamard   Construct a Hadamard matrix.\n",
    "(e)  Hankel\tscipy.linalg.hankel   Construct a Hankel matrix.\n",
    "(f)  Hilbert\tscipy.linalg.hilbert   Construct a Hilbert matrix.\n",
    "(g)  Inverse Hilbert\tscipy.linalg.invhilbert  Construct the inverse of a Hilbert matrix.\n",
    "(h)   Leslie\tscipy.linalg.leslie   Create a Leslie matrix.\n",
    "(j)  Pascal\tscipy.linalg.pascal   Create a Pascal matrix.\n",
    "(k)  Toeplitz\tscipy.linalg.toeplitz  Construct a Toeplitz matrix.\n",
    "(i)  Van der Monde\tnumpy.vander   Generate a Van der Monde matrix.\n"
   ]
  }
 ],
 "metadata": {
  "anaconda-cloud": {},
  "kernelspec": {
   "display_name": "Python [default]",
   "language": "python",
   "name": "python3"
  },
  "language_info": {
   "codemirror_mode": {
    "name": "ipython",
    "version": 3
   },
   "file_extension": ".py",
   "mimetype": "text/x-python",
   "name": "python",
   "nbconvert_exporter": "python",
   "pygments_lexer": "ipython3",
   "version": "3.5.2"
  }
 },
 "nbformat": 4,
 "nbformat_minor": 1
}
