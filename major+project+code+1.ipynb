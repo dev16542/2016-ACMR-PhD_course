{
 "cells": [
  {
   "cell_type": "code",
   "execution_count": 12,
   "metadata": {
    "collapsed": false
   },
   "outputs": [
    {
     "name": "stdout",
     "output_type": "stream",
     "text": [
      "enter a number between 1 to 5 \n",
      "1\n",
      "P (deg/s)\n",
      "--> error is : 2.0819830147932782e-05\n",
      "--> accuracy is :99.99997918016984\n"
     ]
    },
    {
     "data": {
      "image/png": "[encoded data removed]",
      "text/plain": [
       "<matplotlib.figure.Figure at 0xee5959edd8>"
      ]
     },
     "metadata": {},
     "output_type": "display_data"
    }
   ],
   "source": [
    "import csv\n",
    "import random as rm\n",
    "import matplotlib.pyplot as pt\n",
    "import numpy as nm\n",
    "%matplotlib inline\n",
    "from sklearn import linear_model\n",
    "t=0\n",
    "x=[]\n",
    "y=[]\n",
    "ch=int(input(\"enter a number between 1 to 5 \\n\")) ####ch to store attributes data\n",
    "with open('FDR.csv') as h:        #######load csv file\n",
    "    r=csv.reader(h)\n",
    "    for i in r:\n",
    "        for j in i:\n",
    "            if j=='NA' or j=='n/a':     #####load rows except NA & n/a\n",
    "                t=1\n",
    "        if t==0:    \n",
    "            x.append(i)\n",
    "        else:\n",
    "            t=0\n",
    "\n",
    "for i in range(1,len(x)):\n",
    "    y.append(x[i][3])     ######y has all data of interest###\n",
    "\n",
    "y_new=[]  \n",
    "  \n",
    "for i in y:\n",
    "    y_new.append(float(i))   #####y_new has data of y in float as list###\n",
    "\n",
    "x_new=[]\n",
    "#####################choose the attribute b/w  1-5 and add data to x_new #################\n",
    "if ch==1:\n",
    "    print (x[0][1])\n",
    "    for i in range(1,len(x)):\n",
    "        x_new.append(float(x[i][1]))\n",
    "if ch==2:\n",
    "    print (x[0][2])\n",
    "    for i in range(1,len(x)):\n",
    "        x_new.append(float(x[i][2])) \n",
    "if ch==3:\n",
    "    print (x[0][3])\n",
    "    for i in range(1,len(x)):\n",
    "        x_new.append(float(x[i][3])) \n",
    "if ch==4:\n",
    "    print (x[0][4])\n",
    "    for i in range(1,len(x)):\n",
    "        x_new.append(float(x[i][4])) \n",
    "if ch==5:\n",
    "    print (x[0][5])\n",
    "    for i in range(1,len(x)):\n",
    "        x_new.append(float(x[i][5])) \n",
    "\n",
    "################# changing x_new in matrix#############\n",
    "x_new=nm.matrix(x_new)\n",
    "x_new=x_new.transpose()\n",
    "############ last 300 is used for testing ######\n",
    "x_train=x_new[:-300]\n",
    "x_test=x_new[-300:]\n",
    "############ last 300 is used for testing ######\n",
    "y_train=y_new[:-300]\n",
    "y_test=y_new[-300:]\n",
    "\n",
    "#############initializing the reg_model #######\n",
    "reg_model = linear_model.LinearRegression()\n",
    "############### training of data using fit ##########\n",
    "reg_model.fit(x_train,y_train)\n",
    "############### pred is used to predict the points of test data #####\n",
    "pred = reg_model.predict(x_test)\n",
    "\n",
    "pos,neg=0,0\n",
    "ans=0.0 \n",
    "for i in range (0,len(pred)):\n",
    "        pos+=pow(pred[i]-y_new[i],2)\n",
    "ans=float(pos)/len(pred)\n",
    "################# scatter is used to plot points of test data################\n",
    "pt.scatter(x_test,y_test,color='blue')\n",
    "############## plot is used to plot line of test data #############\n",
    "pt.plot(x_test,pred,color='red')\n",
    "\n",
    "\n",
    "print (\"--> error is : \"+str(ans))\n",
    "print (\"--> accuracy is :\"+str(100-ans))\n",
    "\n",
    "\n",
    "    "
   ]
  },
  {
   "cell_type": "code",
   "execution_count": 16,
   "metadata": {
    "collapsed": false
   },
   "outputs": [
    {
     "name": "stdout",
     "output_type": "stream",
     "text": [
      "enter a number between 1 to 5 \n",
      "5\n",
      "Roll deflection (deg)\n",
      "--> error is : 1.8987791607340194e-05\n",
      "--> accuracy is :99.9999810122084\n"
     ]
    },
    {
     "data": {
      "image/png": "[encoded data removed]",
      "text/plain": [
       "<matplotlib.figure.Figure at 0xee5959ef28>"
      ]
     },
     "metadata": {},
     "output_type": "display_data"
    }
   ],
   "source": [
    "import csv\n",
    "import random as rm\n",
    "import matplotlib.pyplot as pt\n",
    "import numpy as nm\n",
    "%matplotlib inline\n",
    "from sklearn import linear_model\n",
    "t=0\n",
    "x=[]\n",
    "y=[]\n",
    "ch=int(input(\"enter a number between 1 to 5 \\n\")) ####ch to store attributes data\n",
    "with open('FDR.csv') as h:        #######load csv file\n",
    "    r=csv.reader(h)\n",
    "    for i in r:\n",
    "        for j in i:\n",
    "            if j=='NA' or j=='n/a':     #####load rows except NA & n/a\n",
    "                t=1\n",
    "        if t==0:    \n",
    "            x.append(i)\n",
    "        else:\n",
    "            t=0\n",
    "\n",
    "for i in range(1,len(x)):\n",
    "    y.append(x[i][3])     ######y has all data of interest###\n",
    "\n",
    "y_new=[]  \n",
    "  \n",
    "for i in y:\n",
    "    y_new.append(float(i))   #####y_new has data of y in float as list###\n",
    "\n",
    "x_new=[]\n",
    "#####################choose the attribute b/w  1-5 and add data to x_new #################\n",
    "if ch==1:\n",
    "    print (x[0][1])\n",
    "    for i in range(1,len(x)):\n",
    "        x_new.append(float(x[i][1]))\n",
    "if ch==2:\n",
    "    print (x[0][2])\n",
    "    for i in range(1,len(x)):\n",
    "        x_new.append(float(x[i][2])) \n",
    "if ch==3:\n",
    "    print (x[0][3])\n",
    "    for i in range(1,len(x)):\n",
    "        x_new.append(float(x[i][3])) \n",
    "if ch==4:\n",
    "    print (x[0][4])\n",
    "    for i in range(1,len(x)):\n",
    "        x_new.append(float(x[i][4])) \n",
    "if ch==5:\n",
    "    print (x[0][5])\n",
    "    for i in range(1,len(x)):\n",
    "        x_new.append(float(x[i][5])) \n",
    "\n",
    "################# changing x_new in matrix#############\n",
    "x_new=nm.matrix(x_new)\n",
    "x_new=x_new.transpose()\n",
    "############ last 300 is used for testing ######\n",
    "x_train=x_new[:-300]\n",
    "x_test=x_new[-300:]\n",
    "############ last 300 is used for testing ######\n",
    "y_train=y_new[:-300]\n",
    "y_test=y_new[-300:]\n",
    "\n",
    "#############initializing the reg_model #######\n",
    "reg_model = linear_model.LinearRegression()\n",
    "############### training of data using fit ##########\n",
    "reg_model.fit(x_train,y_train)\n",
    "############### pred is used to predict the points of test data #####\n",
    "pred = reg_model.predict(x_test)\n",
    "\n",
    "pos,neg=0,0\n",
    "ans=0.0 \n",
    "for i in range (0,len(pred)):\n",
    "        pos+=pow(pred[i]-y_new[i],2)\n",
    "ans=float(pos)/len(pred)\n",
    "################# scatter is used to plot points of test data################\n",
    "pt.scatter(x_test,y_test,color='blue')\n",
    "############## plot is used to plot line of test data #############\n",
    "pt.plot(x_test,pred,color='red')\n",
    "\n",
    "\n",
    "print (\"--> error is : \"+str(ans))\n",
    "print (\"--> accuracy is :\"+str(100-ans))\n",
    "\n",
    "\n",
    "    "
   ]
  },
  {
   "cell_type": "code",
   "execution_count": null,
   "metadata": {
    "collapsed": true
   },
   "outputs": [],
   "source": []
  }
 ],
 "metadata": {
  "anaconda-cloud": {},
  "kernelspec": {
   "display_name": "Python [default]",
   "language": "python",
   "name": "python3"
  },
  "language_info": {
   "codemirror_mode": {
    "name": "ipython",
    "version": 3
   },
   "file_extension": ".py",
   "mimetype": "text/x-python",
   "name": "python",
   "nbconvert_exporter": "python",
   "pygments_lexer": "ipython3",
   "version": "3.5.2"
  }
 },
 "nbformat": 4,
 "nbformat_minor": 1
}
