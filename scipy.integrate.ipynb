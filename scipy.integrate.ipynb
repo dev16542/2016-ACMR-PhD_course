{
 "cells": [
  {
   "cell_type": "markdown",
   "metadata": {},
   "source": [
    "# Assignment No. 3 Part ( b)\n",
    "### (scipy.integrate)\n",
    "### Introduction\n",
    "\n",
    "scipy.integrate is an extensively used sub module of the Python Libray for computing the integral of functions both under the condition of function objects and fixed samples being available. The following methods are used for various integration requirements.\n",
    "\n",
    "(a)\tTo Integrate Functions given function object.\n",
    "\n",
    "   quad          -- General purpose integration.\n",
    "   dblquad       -- General purpose double integration.\n",
    "   tplquad       -- General purpose triple integration.\n",
    "   fixed_quad    -- Integrate func(x) using Gaussian quadrature of order n.\n",
    "   quadrature    -- Integrate with given tolerance using Gaussian\n",
    "\t\t\t\t\t                  quadrature.\n",
    "   romberg       -- Integrate func using Romberg integration.\n",
    "\n",
    "(b)\tTo Integrate Functions given fixed samples.\n",
    "\n",
    "   trapz         -- Use trapezoidal rule to compute integral from samples.\n",
    "   cumtrapz      -- Use trapezoidal rule to cumulatively compute integral.\n",
    "   simps         -- Use Simpson's rule to compute integral from samples.\n",
    "   romb          -- Use Romberg Integration to compute integral from\n",
    "                    (2**k + 1) evenly-spaced samples.\n",
    "\n",
    "   \n",
    "(c)\tNumerical integrators for Ordinary Differential Equations systems.\n",
    "\n",
    "   odeint        -- General integration of ordinary differential equations.\n",
    "   ode           -- Integrate ODE using VODE and ZVODE routines.\n"
   ]
  },
  {
   "cell_type": "markdown",
   "metadata": {},
   "source": [
    "## Numerical Integration\n",
    "\n",
    "The most generic integration routine is scipy.integrate.quad():"
   ]
  },
  {
   "cell_type": "code",
   "execution_count": 26,
   "metadata": {
    "collapsed": false
   },
   "outputs": [
    {
     "data": {
      "text/plain": [
       "True"
      ]
     },
     "execution_count": 26,
     "metadata": {},
     "output_type": "execute_result"
    }
   ],
   "source": [
    ">>> import numpy as np\n",
    ">>> from scipy.integrate import quad\n",
    ">>> res, err = quad(np.sin, 0, np.pi/2)\n",
    ">>> np.allclose(res, 1)\n",
    "\n",
    "\n"
   ]
  },
  {
   "cell_type": "code",
   "execution_count": 27,
   "metadata": {
    "collapsed": false
   },
   "outputs": [
    {
     "data": {
      "text/plain": [
       "True"
      ]
     },
     "execution_count": 27,
     "metadata": {},
     "output_type": "execute_result"
    }
   ],
   "source": [
    ">>> import numpy as np\n",
    ">>> np.allclose(err, 1 - res)"
   ]
  },
  {
   "cell_type": "markdown",
   "metadata": {},
   "source": [
    "## General multiple integration (dblquad, tplquad, nquad)\n",
    "The mechanics for double and triple integration have been wrapped up into the functions dblquad and tplquad. These functions take the function to integrate and four, or six arguments, respectively. The limits of all inner integrals need to be defined as functions.\n",
    "An example of using double integration to compute several values of In\n",
    "is shown below:\n",
    "\n"
   ]
  },
  {
   "cell_type": "code",
   "execution_count": 28,
   "metadata": {
    "collapsed": false
   },
   "outputs": [
    {
     "name": "stdout",
     "output_type": "stream",
     "text": [
      "(0.2500000000043577, 1.29830334693681e-08)\n",
      "(0.3333333333366853, 1.3888461883425516e-08)\n",
      "(0.499999999909358, 1.4640839512484866e-08)\n"
     ]
    },
    {
     "data": {
      "text/plain": [
       "(0.4999999999985751, 1.3894083651858995e-08)"
      ]
     },
     "execution_count": 28,
     "metadata": {},
     "output_type": "execute_result"
    }
   ],
   "source": [
    ">>>\n",
    ">>> from scipy.integrate import quad, dblquad\n",
    ">>> def I(n):\n",
    "...     return dblquad(lambda t, x: np.exp(-x*t)/t**n, 0, np.inf, lambda x: 1, lambda x: np.inf)\n",
    ">>>\n",
    ">>> print(I(4))\n",
    "(0.2500000000043577, 1.29830334693681e-08)\n",
    ">>> print(I(3))\n",
    "(0.33333333325010883, 1.3888461883425516e-08)\n",
    ">>> print(I(2))\n",
    "(0.4999999999985751, 1.3894083651858995e-08)\n"
   ]
  },
  {
   "cell_type": "markdown",
   "metadata": {},
   "source": [
    "\n",
    "As example for non-constant limits consider the integral\n",
    "I=∫1/2y=0∫1−2yx=0xydxdy=196.\n",
    "This integral can be evaluated using the expression below (Note the use of the non-constant lambda functions for the upper limit of the inner integral):\n"
   ]
  },
  {
   "cell_type": "code",
   "execution_count": 29,
   "metadata": {
    "collapsed": false
   },
   "outputs": [
    {
     "data": {
      "text/plain": [
       "(0.010416666666666668, 1.1564823173178715e-16)"
      ]
     },
     "execution_count": 29,
     "metadata": {},
     "output_type": "execute_result"
    }
   ],
   "source": [
    ">>>\n",
    ">>> from scipy.integrate import dblquad\n",
    ">>> area = dblquad(lambda x, y: x*y, 0, 0.5, lambda x: 0, lambda x: 1-2*x)\n",
    ">>> area\n",
    "(0.010416666666666668, 1.1564823173178715e-16)\n"
   ]
  },
  {
   "cell_type": "markdown",
   "metadata": {},
   "source": [
    "For n-fold integration, scipy provides the function nquad. The integration bounds are an iterable object: either a list of constant bounds, or a list of functions for the non-constant integration bounds. The order of integration (and therefore the bounds) is from the innermost integral to the outermost one.\n",
    "The integral from above\n",
    "In=∫∞0∫∞1e−xttndtdx=1n\n",
    "can be calculated as\n"
   ]
  },
  {
   "cell_type": "code",
   "execution_count": 30,
   "metadata": {
    "collapsed": false
   },
   "outputs": [
    {
     "data": {
      "text/plain": [
       "(0.20000000000002294, 1.2239614263187945e-08)"
      ]
     },
     "execution_count": 30,
     "metadata": {},
     "output_type": "execute_result"
    }
   ],
   "source": [
    ">>>\n",
    ">>> from scipy import integrate\n",
    ">>> N = 5\n",
    ">>> def f(t, x):\n",
    "...    return np.exp(-x*t) / t**N\n",
    ">>> integrate.nquad(f, [[1, np.inf],[0, np.inf]])\n",
    "(0.20000000000002294, 1.2239614263187945e-08)\n"
   ]
  },
  {
   "cell_type": "markdown",
   "metadata": {},
   "source": [
    "Note that the order of arguments for f must match the order of the integration bounds; i.e. the inner integral with respect to t\n",
    "is on the interval [1,∞] and the outer integral with respect to x is on the interval [0,∞]\n",
    ".\n",
    "Non-constant integration bounds can be treated in a similar manner; the example from above\n",
    "I=∫1/2y=0∫1−2yx=0xydxdy=196.\n",
    "can be evaluated by means of\n"
   ]
  },
  {
   "cell_type": "code",
   "execution_count": 31,
   "metadata": {
    "collapsed": false
   },
   "outputs": [
    {
     "data": {
      "text/plain": [
       "(0.010416666666666668, 4.101620128472366e-16)"
      ]
     },
     "execution_count": 31,
     "metadata": {},
     "output_type": "execute_result"
    }
   ],
   "source": [
    ">>>\n",
    ">>> from scipy import integrate\n",
    ">>> def f(x, y):\n",
    "...     return x*y\n",
    ">>> def bounds_y():\n",
    "...     return [0, 0.5]\n",
    ">>> def bounds_x(y):\n",
    "...     return [0, 1-2*y]\n",
    ">>> integrate.nquad(f, [bounds_x, bounds_y])\n",
    "(0.010416666666666668, 4.101620128472366e-16)\n"
   ]
  },
  {
   "cell_type": "markdown",
   "metadata": {},
   "source": [
    "which is the same result as before."
   ]
  },
  {
   "cell_type": "markdown",
   "metadata": {},
   "source": [
    "## Gaussian quadrature\n",
    "\n",
    "A few functions are also provided in order to perform simple Gaussian quadrature over a fixed interval. The first is fixed_quad which performs fixed-order Gaussian quadrature. The second function is quadrature which performs Gaussian quadrature of multiple orders until the difference in the integral estimate is beneath some tolerance supplied by the user. These functions both use the module special.orthogonal which can calculate the roots and quadrature weights of a large variety of orthogonal polynomials (the polynomials themselves are available as special functions returning instances of the polynomial class — e.g. special.legendre).\n",
    "Romberg Integration\n",
    "Romberg’s method [WPR] is another method for numerically evaluating an integral. See the help function for romberg for further details.\n",
    "Integrating using Samples\n",
    "If the samples are equally-spaced and the number of samples available is 2k+1\n",
    "for some integer k\n",
    ", then Romberg romb integration can be used to obtain high-precision estimates of the integral using the available samples. Romberg integration uses the trapezoid rule at step-sizes related by a power of two and then performs Richardson extrapolation on these estimates to approximate the integral with a higher-degree of accuracy.\n",
    "\n",
    "\n",
    "\n"
   ]
  },
  {
   "cell_type": "markdown",
   "metadata": {},
   "source": [
    "## Ordinary differential equations (odeint)\n",
    "Integrating a set of ordinary differential equations (ODEs) given initial conditions is another useful example. The function odeint is available in SciPy for integrating a first-order vector differential equation:\n",
    "               dydt=f(y,t),\n",
    "given initial conditions y(0)=y0\n",
    ", where y is a length N vector and f is a mapping from RN to RN. A higher-order ordinary differential equation can always be reduced to a differential equation of this type by introducing intermediate derivatives into the y\n",
    "vector.\n",
    "The following example illustrates the use of odeint including the usage of the Dfun option which allows the user to specify a gradient (with respect to y) of the function, f(y,t).\n",
    "\n",
    "\n",
    "\n"
   ]
  },
  {
   "cell_type": "code",
   "execution_count": 32,
   "metadata": {
    "collapsed": false
   },
   "outputs": [
    {
     "data": {
      "text/plain": [
       "array([ 0.35502805,  0.33951138,  0.32406749,  0.30876306,  0.29365817,\n",
       "        0.27880648])"
      ]
     },
     "execution_count": 32,
     "metadata": {},
     "output_type": "execute_result"
    }
   ],
   "source": [
    ">>>\n",
    ">>> from scipy.integrate import odeint\n",
    ">>> from scipy.special import gamma, airy\n",
    ">>> y1_0 = 1.0 / 3**(2.0/3.0) / gamma(2.0/3.0)\n",
    ">>> y0_0 = -1.0 / 3**(1.0/3.0) / gamma(1.0/3.0)\n",
    ">>> y0 = [y0_0, y1_0]\n",
    ">>> def func(y, t):\n",
    "...     return [t*y[1],y[0]]\n",
    ">>>\n",
    ">>> def gradient(y, t):\n",
    "...     return [[0,t], [1,0]]\n",
    ">>>\n",
    ">>> x = np.arange(0, 4.0, 0.01)\n",
    ">>> t = x\n",
    ">>> ychk = airy(x)[0]\n",
    ">>> y = odeint(func, y0, t)\n",
    ">>> y2 = odeint(func, y0, t, Dfun=gradient)\n",
    ">>>\n",
    ">>> ychk[:36:6]\n",
    ">>>\n",
    ">>> y[:36:6,1]\n",
    ">>>\n",
    ">>> y2[:36:6,1]\n",
    "\n"
   ]
  }
 ],
 "metadata": {
  "anaconda-cloud": {},
  "kernelspec": {
   "display_name": "Python [default]",
   "language": "python",
   "name": "python3"
  },
  "language_info": {
   "codemirror_mode": {
    "name": "ipython",
    "version": 3
   },
   "file_extension": ".py",
   "mimetype": "text/x-python",
   "name": "python",
   "nbconvert_exporter": "python",
   "pygments_lexer": "ipython3",
   "version": "3.5.2"
  }
 },
 "nbformat": 4,
 "nbformat_minor": 1
}
