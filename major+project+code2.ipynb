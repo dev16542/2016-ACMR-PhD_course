{
 "cells": [
  {
   "cell_type": "code",
   "execution_count": 55,
   "metadata": {
    "collapsed": false
   },
   "outputs": [
    {
     "name": "stdout",
     "output_type": "stream",
     "text": [
      "2.3980509630066646 [2]\n",
      "2.008175186585198 [3]\n",
      "4.942908731766664e-31 [4]\n",
      "2.4031665729902127 [5]\n",
      "2.0040955117891635 [2, 3]\n",
      "0.0 [2, 4]\n",
      "2.389790641544934 [2, 5]\n",
      "1.8296632006258803e-31 [3, 4]\n",
      "1.9940805033176174 [3, 5]\n",
      "4.962558936301083e-31 [4, 5]\n",
      "9.956873170585943e-31 [2, 3, 4]\n",
      "1.9893730255359905 [2, 3, 5]\n",
      "3.3510200758474564e-29 [2, 4, 5]\n",
      "9.580258989911409e-29 [3, 4, 5]\n",
      "5.162916677380705e-29 [2, 3, 4, 5]\n"
     ]
    },
    {
     "data": {
      "image/png": "[encoded data removed]",
      "text/plain": [
       "<matplotlib.figure.Figure at 0x11f7143b38>"
      ]
     },
     "metadata": {},
     "output_type": "display_data"
    }
   ],
   "source": [
    "import csv\n",
    "import numpy as nm\n",
    "import matplotlib.pyplot as pt\n",
    "import itertools\n",
    "%matplotlib inline\n",
    "from sklearn import linear_model\n",
    "t=0\n",
    "x=[]\n",
    "a=[]\n",
    "b=[]\n",
    "#ch=int(input(\"enter a number between 2 to 5 except \\n\")) ####ch to store attributes data\n",
    "with open('FDR.csv') as h:        #######load csv file\n",
    "    r=csv.reader(h)\n",
    "    for i in r:\n",
    "        for j in i:\n",
    "            if j=='NA' or j=='n/a':     #####load rows except NA & n/a\n",
    "                t=1\n",
    "        if t==0:    \n",
    "            x.append(i)\n",
    "        else:\n",
    "            t=0\n",
    "x.remove(x[0])\n",
    "temp=[]\n",
    "for i in range(0,len(x)):\n",
    "    temp.append((float(x[i][2]), float(x[i][3]), float(x[i][4]), float(x[i][5])))   \n",
    "for i in temp:\n",
    "    a.append([i[0],i[1],i[2],i[3]])\n",
    "    b.append(float(i[2]))  \n",
    "lis=[]\n",
    "stuff=[2,3,4,5]\n",
    "for l in range(0,len(stuff)+1):\n",
    "    for subset in itertools.combinations(stuff,l):\n",
    "            lis.append(list(subset))\n",
    "lis.remove(lis[0])\n",
    "an=[]\n",
    "p=[ ]\n",
    "error=[]\n",
    "for k in lis:\n",
    "    for i in range(0,len(x)):\n",
    "        for j in k:\n",
    "            if j==2:\n",
    "                p.append(a[i][0])\n",
    "            if j==3:\n",
    "                p.append(a[i][1])\n",
    "            if j==4:\n",
    "                p.append(a[i][2])\n",
    "            if j==5:\n",
    "                p.append(a[i][3])            \n",
    "        an.append(p)\n",
    "        p=[]\n",
    "    an=nm.matrix(an)\n",
    "    \n",
    "\n",
    "    reg_model = linear_model.LinearRegression()\n",
    "############### training of data using fit ##########\n",
    "    reg_model.fit(an,b)\n",
    "############### pred is used to predict the points of test data #####\n",
    "    pred = reg_model.predict(an)\n",
    "\n",
    "    pos,neg=0,0\n",
    "    ans=0.0 \n",
    "    for i in range (0,len(pred)):\n",
    "            pos+=pow(pred[i]-b[i],2)\n",
    "            ans=float(pos)/len(pred)\n",
    "\n",
    "    print (ans,k)\n",
    "    error.append(ans)\n",
    "    \n",
    "    \n",
    "    #print reg_model.coef_\n",
    "    an=[]\n",
    "for i in range(0,len(lis)):    \n",
    "    pt.bar(i,error[i])\n",
    "    pt.xlabel(\"Subset Combinations\")\n",
    "    pt.ylabel(\"Anomaly\")\n",
    "    pt.title(\"Histogram Plot\")"
   ]
  },
  {
   "cell_type": "code",
   "execution_count": null,
   "metadata": {
    "collapsed": true
   },
   "outputs": [],
   "source": []
  }
 ],
 "metadata": {
  "anaconda-cloud": {},
  "kernelspec": {
   "display_name": "Python [default]",
   "language": "python",
   "name": "python3"
  },
  "language_info": {
   "codemirror_mode": {
    "name": "ipython",
    "version": 3
   },
   "file_extension": ".py",
   "mimetype": "text/x-python",
   "name": "python",
   "nbconvert_exporter": "python",
   "pygments_lexer": "ipython3",
   "version": "3.5.2"
  }
 },
 "nbformat": 4,
 "nbformat_minor": 1
}
